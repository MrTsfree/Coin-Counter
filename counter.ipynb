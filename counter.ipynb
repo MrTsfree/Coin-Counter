{
 "nbformat": 4,
 "nbformat_minor": 2,
 "metadata": {
  "language_info": {
   "name": "python",
   "codemirror_mode": {
    "name": "ipython",
    "version": 3
   },
   "version": "3.8.6-final"
  },
  "orig_nbformat": 2,
  "file_extension": ".py",
  "mimetype": "text/x-python",
  "name": "python",
  "npconvert_exporter": "python",
  "pygments_lexer": "ipython3",
  "version": 3,
  "kernelspec": {
   "name": "python3",
   "display_name": "Python 3.8.6 64-bit",
   "metadata": {
    "interpreter": {
     "hash": "aee8b7b246df8f9039afb4144a1f6fd8d2ca17a180786b69acc140d282b71a49"
    }
   }
  }
 },
 "cells": [
  {
   "cell_type": "markdown",
   "metadata": {},
   "source": [
    "# Coin Counter Final\n",
    "\n",
    "An implementation of a live coin counter using a webcam in Python.|"
   ]
  },
  {
   "cell_type": "code",
   "execution_count": 1,
   "metadata": {},
   "outputs": [
    {
     "output_type": "display_data",
     "data": {
      "text/plain": "<Figure size 432x288 with 0 Axes>"
     },
     "metadata": {}
    }
   ],
   "source": [
    "import os.path\n",
    "import numpy as np\n",
    "import scipy.ndimage as ndi\n",
    "from skimage import color, filters, feature, segmentation, exposure\n",
    "from sklearn import cluster\n",
    "import matplotlib.pylab as plt\n",
    "import cv2\n",
    "plt.gray();"
   ]
  },
  {
   "cell_type": "code",
   "execution_count": null,
   "metadata": {},
   "outputs": [],
   "source": [
    "def count_coins(currency=None):\n",
    "    if currency is None:\n",
    "        # Default currency is US currency\n",
    "        currency = [(0.01, 19.05), (0.05, 21.21), (0.1, 17.91), (0.25, 24.26)]\n",
    "    bg_area = 60322.46 # 8.5x11 in paper (215.9x279.4 mm)\n",
    "    # Convert diameters into area ratios\n",
    "    currency = [(val, np.pi*((diam/2)**2) / bg_area) for val, diam in currency]\n",
    "    \n",
    "    return 0"
   ]
  },
  {
   "cell_type": "code",
   "execution_count": null,
   "metadata": {},
   "outputs": [],
   "source": [
    "print(f'Total value: {count_coins()}')"
   ]
  }
 ]
}